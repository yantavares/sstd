{
 "cells": [
  {
   "cell_type": "code",
   "execution_count": 25,
   "metadata": {
    "scrolled": false
   },
   "outputs": [],
   "source": [
    "import numpy as np\n",
    "import scipy.io as sp\n",
    "from matplotlib import pyplot as plt\n"
   ]
  },
  {
   "cell_type": "markdown",
   "metadata": {},
   "source": [
    "# Projeto 4 - Sinais e Sistemas em Tempo Discreto - 2023/01\n",
    "# Identificação \n",
    "## Nome: Yan Tavares de Oliveira\n",
    "## Matrícula: 202014323"
   ]
  },
  {
   "cell_type": "markdown",
   "metadata": {},
   "source": [
    "# Funções utilizadas.\n",
    "\n",
    "Coloque abaixo as funções desenvolvidas para este projeto."
   ]
  },
  {
   "cell_type": "code",
   "execution_count": 26,
   "metadata": {
    "scrolled": false
   },
   "outputs": [],
   "source": [
    "#Código das funções utilizadas."
   ]
  },
  {
   "cell_type": "markdown",
   "metadata": {},
   "source": [
    "# Questão 1\n",
    "\n",
    "Considere um sinal $x\\left[n\\right]$ com 16 amostras:\n",
    "\n",
    "$$\n",
    "x\\left[n\\right] = \\left\\{ 1, 2, 3, 4, 5, 6, 7, 8, 8, 7, 6, 5, 4, 3, 2, 1\\right\\}\n",
    "$$\n"
   ]
  },
  {
   "cell_type": "markdown",
   "metadata": {},
   "source": [
    "## Questão 1a (1.0 ponto)\n",
    "\n",
    "Calcule a DFT do sinal através da equação:\n",
    "\n",
    "$$\n",
    "X\\left[k\\right] = \\sum_{n = 0}^{N-1} x\\left[n\\right] W_{N}^{kn}\n",
    "$$\n",
    "\n",
    "com $W_{N} = e^{-\\frac{2 \\pi}{N}}$."
   ]
  },
  {
   "cell_type": "code",
   "execution_count": 27,
   "metadata": {},
   "outputs": [
    {
     "name": "stdout",
     "output_type": "stream",
     "text": [
      "[ 7.20000000e+01+0.00000000e+00j -2.52741424e+01-5.02733949e+00j\n",
      "  3.87433821e-15-4.55531587e-16j -2.23982881e+00-1.49660576e+00j\n",
      " -1.42108547e-14+0.00000000e+00j -4.46462692e-01-6.68178638e-01j\n",
      " -1.42875499e-14+3.40736424e-15j -3.95661299e-02-1.98912367e-01j\n",
      "  0.00000000e+00-1.11479998e-14j -3.95661299e-02+1.98912367e-01j\n",
      " -7.27366155e-15-2.02632709e-14j -4.46462692e-01+6.68178638e-01j\n",
      " -5.32907052e-14-1.42108547e-14j -2.23982881e+00+1.49660576e+00j\n",
      "  2.53931816e-14+1.20213343e-14j -2.52741424e+01+5.02733949e+00j]\n"
     ]
    }
   ],
   "source": [
    "# Definindo o sinal\n",
    "x = np.array([1, 2, 3, 4, 5, 6, 7, 8, 8, 7, 6, 5, 4, 3, 2, 1])\n",
    "\n",
    "# Número de amostras\n",
    "N = len(x)\n",
    "\n",
    "# Cálculo da DFT\n",
    "X = []\n",
    "for k in range(N):\n",
    "    W_N_kn = np.exp(-2j * np.pi * k * np.arange(N) / N)\n",
    "    X_k = np.sum(x * W_N_kn)\n",
    "    X.append(X_k)\n",
    "\n",
    "# Normalização da DFT\n",
    "X = np.array(X)\n",
    "\n",
    "print(X)\n",
    "\n"
   ]
  },
  {
   "cell_type": "markdown",
   "metadata": {},
   "source": [
    "## Questão 1b (1.0 ponto)\n",
    "\n",
    "Considere a separação do sinal $x\\left[n\\right]$ em suas amostras pares e ímpares, $x_e\\left[n\\right]$ e $x_o\\left[n\\right]$, respectivamente. \n",
    "\n",
    "Calcule a DFT do sinal $x\\left[n\\right]$ através da equação:\n",
    "\n",
    "$$\n",
    "\\hat{X}\\left[k\\right] = X_e\\left[k\\right] + W_{N}^{k} X_o\\left[k\\right]\n",
    "$$\n",
    "\n",
    "Compare as duas DFTs e calcule o erro médio absoluto (MAE) entre as DFTs calculadas pelas duas formas:\n",
    "\n",
    "$$\n",
    "MAE = \\sum_{i = 0}^{N-1} \\left| X\\left[i\\right] - \\hat{X}\\left[i\\right]\\right|\n",
    "$$"
   ]
  },
  {
   "cell_type": "code",
   "execution_count": 28,
   "metadata": {},
   "outputs": [
    {
     "name": "stdout",
     "output_type": "stream",
     "text": [
      "Erro Médio Absoluto (MAE): 4.2304897696081136e-13\n"
     ]
    }
   ],
   "source": [
    "# Separando amostras pares e ímpares\n",
    "x_even = x[::2]\n",
    "x_odd = x[1::2]\n",
    "\n",
    "# Cálculo das DFTs das amostras pares e ímpares\n",
    "X_even = []\n",
    "X_odd = []\n",
    "for k in range(N//2):  # Apenas metade do número de amostras, pois o sinal foi dividido em duas partes\n",
    "    W_N_kn = np.exp(-2j * np.pi * k * np.arange(N//2) / (N//2))\n",
    "    X_even_k = np.sum(x_even * W_N_kn)\n",
    "    X_odd_k = np.sum(x_odd * W_N_kn)\n",
    "    X_even.append(X_even_k)\n",
    "    X_odd.append(X_odd_k)\n",
    "X_even = np.array(X_even)\n",
    "X_odd = np.array(X_odd)\n",
    "\n",
    "# Cálculo da DFT usando a decomposição em amostras pares e ímpares\n",
    "X_hat = np.zeros(N, dtype=complex)\n",
    "X_hat[:N//2] = X_even + np.exp(-1j * 2 * np.pi * np.arange(N//2) / N) * X_odd\n",
    "X_hat[N//2:] = X_even - np.exp(-1j * 2 * np.pi * np.arange(N//2) / N) * X_odd\n",
    "\n",
    "# Cálculo do erro médio absoluto (MAE)\n",
    "MAE = np.sum(np.abs(X - X_hat))\n",
    "\n",
    "print(f\"Erro Médio Absoluto (MAE): {MAE}\")\n"
   ]
  },
  {
   "cell_type": "markdown",
   "metadata": {},
   "source": [
    "# Questão 2\n",
    "\n",
    "O arquivo \"potencia.txt\" contém dados da envoltória real de um tom senoidal amostrado a uma taxa de $200$ amostras / segundo. Para a separação do desvanecimento em larga escala é necessário filtrar esse sinal com um filtro passa-baixas com frequência de corte em torno de $5$ Hz.\n"
   ]
  },
  {
   "cell_type": "markdown",
   "metadata": {},
   "source": [
    "## Questão 2a (1.0  ponto)\n",
    "\n",
    "Projete um filtro digital com a especificação desejada. Podem ser utilizadas as funções de design de filtro da PySDR (https://pysdr.org/content/filters.html), da própria biblioteca scipy (https://docs.scipy.org/doc/scipy/reference/generated/scipy.signal.butter.html) ou mesmo bibliotecas web (http://t-filter.engineerjs.com/) . Plote a resposta em frequência e a resposta ao impulso do filtro projetado. "
   ]
  },
  {
   "cell_type": "code",
   "execution_count": 29,
   "metadata": {},
   "outputs": [
    {
     "data": {
      "image/png": "[encoded data removed]",
      "text/plain": [
       "<Figure size 432x288 with 1 Axes>"
      ]
     },
     "metadata": {
      "needs_background": "light"
     },
     "output_type": "display_data"
    },
    {
     "ename": "AttributeError",
     "evalue": "'numpy.ndarray' object has no attribute 'lfilter'",
     "output_type": "error",
     "traceback": [
      "\u001b[0;31m---------------------------------------------------------------------------\u001b[0m",
      "\u001b[0;31mAttributeError\u001b[0m                            Traceback (most recent call last)",
      "\u001b[1;32m/Users/yantavares/sstd/Projeto_4/projeto4.ipynb Cell 12\u001b[0m in \u001b[0;36m<cell line: 29>\u001b[0;34m()\u001b[0m\n\u001b[1;32m     <a href='vscode-notebook-cell:/Users/yantavares/sstd/Projeto_4/projeto4.ipynb#X14sZmlsZQ%3D%3D?line=26'>27</a>\u001b[0m impulse \u001b[39m=\u001b[39m np\u001b[39m.\u001b[39mzeros(\u001b[39m100\u001b[39m)\n\u001b[1;32m     <a href='vscode-notebook-cell:/Users/yantavares/sstd/Projeto_4/projeto4.ipynb#X14sZmlsZQ%3D%3D?line=27'>28</a>\u001b[0m impulse[\u001b[39m0\u001b[39m] \u001b[39m=\u001b[39m \u001b[39m1\u001b[39m\n\u001b[0;32m---> <a href='vscode-notebook-cell:/Users/yantavares/sstd/Projeto_4/projeto4.ipynb#X14sZmlsZQ%3D%3D?line=28'>29</a>\u001b[0m response \u001b[39m=\u001b[39m signal\u001b[39m.\u001b[39;49mlfilter(b, a, impulse)\n\u001b[1;32m     <a href='vscode-notebook-cell:/Users/yantavares/sstd/Projeto_4/projeto4.ipynb#X14sZmlsZQ%3D%3D?line=29'>30</a>\u001b[0m plt\u001b[39m.\u001b[39mfigure()\n\u001b[1;32m     <a href='vscode-notebook-cell:/Users/yantavares/sstd/Projeto_4/projeto4.ipynb#X14sZmlsZQ%3D%3D?line=30'>31</a>\u001b[0m plt\u001b[39m.\u001b[39mstem(response)\n",
      "\u001b[0;31mAttributeError\u001b[0m: 'numpy.ndarray' object has no attribute 'lfilter'"
     ]
    }
   ],
   "source": [
    "from scipy.signal import butter, freqz\n",
    "import matplotlib.pyplot as plt\n",
    "import numpy as np\n",
    "\n",
    "# Definindo os parâmetros do filtro\n",
    "fs = 200.0  # taxa de amostragem\n",
    "fc = 5.0    # frequência de corte\n",
    "order = 6   # ordem do filtro\n",
    "\n",
    "# Projeto do filtro\n",
    "b, a = butter(order, fc / (fs / 2), btype='low')\n",
    "\n",
    "# Resposta em frequência\n",
    "w, h = freqz(b, a, fs=fs)\n",
    "plt.figure()\n",
    "plt.plot(w, abs(h), label=\"Butterworth\")\n",
    "plt.title(\"Resposta em Frequência\")\n",
    "plt.xlabel(\"Frequência [Hz]\")\n",
    "plt.ylabel(\"Ganho\")\n",
    "plt.grid(True)\n",
    "plt.legend()\n",
    "plt.show()\n",
    "\n",
    "signal = np.loadtxt(\"potencia.txt\")\n",
    "\n",
    "# Resposta ao impulso\n",
    "impulse = np.zeros(100)\n",
    "impulse[0] = 1\n",
    "response = signal.lfilter(b, a, impulse)\n",
    "plt.figure()\n",
    "plt.stem(response)\n",
    "plt.title(\"Resposta ao Impulso\")\n",
    "plt.xlabel(\"Amostras\")\n",
    "plt.ylabel(\"Amplitude\")\n",
    "plt.grid(True)\n",
    "plt.show()\n"
   ]
  },
  {
   "cell_type": "markdown",
   "metadata": {},
   "source": [
    "## Questão 2b (1.0 ponto)\n",
    "\n",
    "Escreva uma função para processar uma janela de $N$ amostras do sinal desejado. $N$ deve ser escolhido em torno de 1 segundo de sinal, aproximadamente. A filtragem deve ser feita no domínio da DFT (pode ser utilizada alguma função para cálculo da fft em Python, como a função fft da biblioteca numpy)."
   ]
  },
  {
   "cell_type": "code",
   "execution_count": null,
   "metadata": {},
   "outputs": [],
   "source": [
    "def process_signal_window(signal_window, fs=200.0, fc=5.0, order=4):\n",
    "    # taxa de amostragem (Hz), frequência de corte (Hz), ordem do filtro\n",
    "    nyq = 0.5 * fs\n",
    "    cutoff_norm = fc / nyq\n",
    "    b, a = signal.butter(order, cutoff_norm, btype='low', analog=False)\n",
    "    \n",
    "    # resposta ao impulso do filtro\n",
    "    t, imp_resp = signal.dimpulse((b, a, 1))\n",
    "    imp_resp = imp_resp[0].ravel()\n",
    "\n",
    "    # resposta em frequência do filtro via FFT\n",
    "    N = len(signal_window)\n",
    "    freq_resp = np.fft.rfft(imp_resp, n=N)\n",
    "\n",
    "    # processamento da janela de sinal\n",
    "    signal_fft = np.fft.rfft(signal_window)    # FFT da janela de sinal\n",
    "    filtered_fft = signal_fft * freq_resp      # filtragem no domínio da frequência\n",
    "    filtered_signal = np.fft.irfft(filtered_fft)  # IFFT para voltar ao domínio do tempo\n",
    "\n",
    "    return filtered_signal"
   ]
  },
  {
   "cell_type": "markdown",
   "metadata": {},
   "source": [
    "## Questão 2c (1.0  ponto)\n",
    "\n",
    "Escreva uma função para combinar a saída do processamento de cada janela na saída do sistema, utilizando **um** dos métodos vistos (*overlap and add* ou *overlap and save*). Indique claramente o método escolhido.\n"
   ]
  },
  {
   "cell_type": "code",
   "execution_count": null,
   "metadata": {},
   "outputs": [],
   "source": [
    "def overlap_and_add(signal, window_size, processing_func):\n",
    "    # cálculo do tamanho do overlap\n",
    "    overlap_size = window_size // 2\n",
    "\n",
    "    # inicialização do sinal de saída\n",
    "    output = np.zeros(len(signal))\n",
    "\n",
    "    # processamento por janela e combinação usando overlap and add\n",
    "    for i in range(0, len(signal) - window_size, window_size - overlap_size):\n",
    "        signal_window = signal[i:i+window_size]\n",
    "        processed_window = processing_func(signal_window)\n",
    "\n",
    "        # adicionando a janela processada à saída\n",
    "        output[i:i+window_size] += processed_window\n",
    "\n",
    "    return output\n"
   ]
  },
  {
   "cell_type": "markdown",
   "metadata": {},
   "source": [
    "## Questão 2d (1.0  ponto)\n",
    "\n",
    "Plote o sinal de entrada e saída do sistema dado tanto pelo processamento em janelas como pelo processamento do sinal completo. Pode ser utilizada alguma função da biblioteca do python para calcular a saída do sistema usando o sinal completo."
   ]
  },
  {
   "cell_type": "code",
   "execution_count": null,
   "metadata": {},
   "outputs": [],
   "source": [
    "#Resposta da questão 2d"
   ]
  },
  {
   "cell_type": "markdown",
   "metadata": {},
   "source": [
    "# Questão 3\n",
    "\n",
    "A equação diferença para um filtro FIR de tamanho $N$ pode ser escrita como:\n",
    "\n",
    "$$\n",
    "\\begin{align}\n",
    "\ty\\left[n\\right] &= h_0 x\\left[n\\right] + h_1 x\\left[n-1\\right] + h_2 x\\left[n-2\\right] + h_3 \\left[n-3\\right] + \\ldots + h_{N-1} x\\left[n - \\left(N- 1\\right)\\right] \\\\\n",
    "\t       &= \\sum_{k=0}^{N-1} h_k x\\left[n - k\\right] \n",
    "\\end{align}\n",
    "$$\n",
    "\n",
    "Os coeficientes do filtro, ou \\textit{taps}, são expressados usando a variável $h_k$ para enfatizar que os próprios coeficientes representam a resposta ao impulso do filtro. A resposta em frequência do filtro é:\n",
    "\n",
    "$$\n",
    "\\begin{align}\n",
    "\tH\\left( \\Omega \\right) = \\frac{Y\\left( \\Omega \\right)}{X\\left( \\Omega \\right)} = \\sum_{k=0}^{N-1} h_k e^{-j \\Omega k}\n",
    "\\end{align}\n",
    "$$\n",
    "\n",
    "Como $H\\left( \\Omega \\right)$ é uma função com período $2 \\pi$ da variável contínua $\\Omega$, é suficiente especificar $H\\left( \\Omega \\right)$ em apenas um período $0 \\leq \\Omega < 2 \\pi$. \n",
    "\n",
    "Em muitas aplicações, a resposta em magnitude desejada do filtro $\\left|H_d \\left( \\Omega \\right)\\right|$ é conhecida, mas não os coeficientes $h_k$ do filtro. A questão é, então, determinar os coeficientes do filtro a partir da resposta em magnitude desejada. Podemos fazer isso simplesmente amostrando a resposta em frequência desejada $\\left|H_d \\left( \\Omega \\right)\\right|$ com $N$ amostras em um período, e então fazendo a DFT inversa dessas amostras (obtendo $h\\left[n\\right]$). Note que a definição dos coeficientes $h_k$ é suficiente para determinar o sistema do filtro FIR. Além disso, como $H \\left( \\Omega \\right)$ foi obtido amostrando $\\left|H_d \\left( \\Omega \\right)\\right|$ para algumas frequências, garantimos que a resposta em frequência do filtro projeto será igual a resposta em frequência desejada ao menos nos valores de amostragem. Finalmente, observe que, ao fazer a DFT inversa, alguns coeficientes $h_k$ podem ter uma pequena componente imaginária que deve ser descartada para o projeto de um filtro real. \n",
    "\n"
   ]
  },
  {
   "cell_type": "markdown",
   "metadata": {},
   "source": [
    "## Questão 3a (1.0  ponto)\n",
    "\n",
    "Considere então um sinal de ECG amostrado a uma taxa de $500$ Hz. Projete um filtro digital FIR através da amostragem de frequência passa-baixas com frequência de corte igual a $50$ Hz. \n",
    "\n",
    "Plote a resposta ao impulso $h\\left[n\\right]$ e a resposta em frequência $H\\left(\\Omega\\right)$ do filtro para $N = 21$, $N = 31$ e $N = 41$. Compare os filtros com a resposta em frequência desejada. "
   ]
  },
  {
   "cell_type": "code",
   "execution_count": null,
   "metadata": {},
   "outputs": [],
   "source": [
    "#Resposta da questão 3a"
   ]
  },
  {
   "cell_type": "markdown",
   "metadata": {},
   "source": [
    "## Questão 3b (1.0  ponto)\n",
    "\n",
    "A resposta ao impulso do filtro do item anterior deveria ser uma função *sinc*, que é uma função com suporte infinito. Porém, a amostragem amostra apenas a parte para $n$ positivo, gerando uma descontinuidade e uma resposta em frequência mais pobre. Uma forma de melhorar essa amostragem é centralizar a função *sinc* - para isso, devemos multiplicar a resposta em frequência do filtro $H\\left(\\Omega\\right)$ por $e^{-j \\Omega \\frac{\\left(N - 1\\right)}{2}}$. Utilize essa técnica para gerar novos filtros com $N = 21$, $N = 31$ e $N = 41$. Compare os filtros com os filtros do item anterior com o mesmo tamanho."
   ]
  },
  {
   "cell_type": "code",
   "execution_count": null,
   "metadata": {},
   "outputs": [],
   "source": [
    "#Resposta da questão 3b"
   ]
  },
  {
   "cell_type": "markdown",
   "metadata": {},
   "source": [
    "## Questão 3c (1.0  ponto)\n",
    "\n",
    "Aplique o filtro com $N = 41$ no sinal do arquivo \"noisy\\_ecg\\_data\\_3.mat\". Compare o sinal de entrada com o sinal de saída. O que acontece com os picos do ECG? "
   ]
  },
  {
   "cell_type": "code",
   "execution_count": null,
   "metadata": {},
   "outputs": [],
   "source": [
    "#Resposta da questão 3c\n",
    "\n",
    "sinal = sp.loadmat('noisy_ecg_data_3.mat')['noisy_ecg_3'].ravel()"
   ]
  },
  {
   "cell_type": "markdown",
   "metadata": {},
   "source": [
    "## Questão 3d (1.0  ponto)\n",
    "\n",
    "Utilize a técnica de *zero-phase filtering* com o filtro do item anterior. Compare a saída do sistema com e sem a aplicação da técnica."
   ]
  },
  {
   "cell_type": "code",
   "execution_count": null,
   "metadata": {},
   "outputs": [],
   "source": [
    "#Resposta da questão 3d"
   ]
  }
 ],
 "metadata": {
  "kernelspec": {
   "display_name": "Python 3 (ipykernel)",
   "language": "python",
   "name": "python3"
  },
  "language_info": {
   "codemirror_mode": {
    "name": "ipython",
    "version": 3
   },
   "file_extension": ".py",
   "mimetype": "text/x-python",
   "name": "python",
   "nbconvert_exporter": "python",
   "pygments_lexer": "ipython3",
   "version": "3.9.12"
  },
  "vscode": {
   "interpreter": {
    "hash": "916dbcbb3f70747c44a77c7bcd40155683ae19c65e1c03b4aa3499c5328201f1"
   }
  }
 },
 "nbformat": 4,
 "nbformat_minor": 2
}
