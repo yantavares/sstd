{
 "cells": [
  {
   "cell_type": "code",
   "execution_count": 1,
   "metadata": {
    "scrolled": false
   },
   "outputs": [],
   "source": [
    "import numpy as np\n",
    "import scipy as sp\n",
    "from matplotlib import pyplot as plt\n"
   ]
  },
  {
   "cell_type": "markdown",
   "metadata": {},
   "source": [
    "# Projeto 4 - Sinais e Sistemas em Tempo Discreto - 2023/01\n",
    "# Identificação\n",
    "## Nome: \n",
    "## Matrícula: "
   ]
  },
  {
   "cell_type": "markdown",
   "metadata": {},
   "source": [
    "# Funções utilizadas.\n",
    "\n",
    "Coloque abaixo as funções desenvolvidas para este projeto."
   ]
  },
  {
   "cell_type": "code",
   "execution_count": 2,
   "metadata": {
    "scrolled": false
   },
   "outputs": [],
   "source": [
    "#Código das funções utilizadas."
   ]
  },
  {
   "cell_type": "markdown",
   "metadata": {},
   "source": [
    "# Questão 1\n",
    "\n",
    "Considere um sinal $x\\left[n\\right]$ com 16 amostras:\n",
    "\n",
    "$$\n",
    "x\\left[n\\right] = \\left\\{ 1, 2, 3, 4, 5, 6, 7, 8, 8, 7, 6, 5, 4, 3, 2, 1\\right\\}\n",
    "$$\n"
   ]
  },
  {
   "cell_type": "markdown",
   "metadata": {},
   "source": [
    "## Questão 1a (1.0 ponto)\n",
    "\n",
    "Calcule a DFT do sinal através da equação:\n",
    "\n",
    "$$\n",
    "X\\left[k\\right] = \\sum_{n = 0}^{N-1} x\\left[n\\right] W_{N}^{kn}\n",
    "$$\n",
    "\n",
    "com $W_{N} = e^{-\\frac{2 \\pi}{N}}$."
   ]
  },
  {
   "cell_type": "code",
   "execution_count": 3,
   "metadata": {},
   "outputs": [],
   "source": [
    "#Resposta da questão 1a"
   ]
  },
  {
   "cell_type": "markdown",
   "metadata": {},
   "source": [
    "## Questão 1b (1.0 ponto)\n",
    "\n",
    "Considere a separação do sinal $x\\left[n\\right]$ em suas amostras pares e ímpares, $x_e\\left[n\\right]$ e $x_o\\left[n\\right]$, respectivamente. \n",
    "\n",
    "Calcule a DFT do sinal $x\\left[n\\right]$ através da equação:\n",
    "\n",
    "$$\n",
    "\\hat{X}\\left[k\\right] = X_e\\left[k\\right] + W_{N}^{k} X_o\\left[k\\right]\n",
    "$$\n",
    "\n",
    "Compare as duas DFTs e calcule o erro médio absoluto (MAE) entre as DFTs calculadas pelas duas formas:\n",
    "\n",
    "$$\n",
    "MAE = \\sum_{i = 0}^{N-1} \\left| X\\left[i\\right] - \\hat{X}\\left[i\\right]\\right|\n",
    "$$"
   ]
  },
  {
   "cell_type": "code",
   "execution_count": 4,
   "metadata": {},
   "outputs": [],
   "source": [
    "#Resposta da questão 1b"
   ]
  },
  {
   "cell_type": "markdown",
   "metadata": {},
   "source": [
    "# Questão 2\n",
    "\n",
    "O arquivo \"potencia.txt\" contém dados da envoltória real de um tom senoidal amostrado a uma taxa de $200$ amostras / segundo. Para a separação do desvanecimento em larga escala é necessário filtrar esse sinal com um filtro passa-baixas com frequência de corte em torno de $5$ Hz.\n"
   ]
  },
  {
   "cell_type": "markdown",
   "metadata": {},
   "source": [
    "## Questão 2a (1.0  ponto)\n",
    "\n",
    "Projete um filtro digital com a especificação desejada. Podem ser utilizadas as funções de design de filtro da PySDR (https://pysdr.org/content/filters.html), da própria biblioteca scipy (https://docs.scipy.org/doc/scipy/reference/generated/scipy.signal.butter.html) ou mesmo bibliotecas web (http://t-filter.engineerjs.com/) . Plote a resposta em frequência e a resposta ao impulso do filtro projetado. "
   ]
  },
  {
   "cell_type": "code",
   "execution_count": 5,
   "metadata": {},
   "outputs": [],
   "source": [
    "#Resposta da questão 2a"
   ]
  },
  {
   "cell_type": "markdown",
   "metadata": {},
   "source": [
    "## Questão 2b (1.0 ponto)\n",
    "\n",
    "Escreva uma função para processar uma janela de $N$ amostras do sinal desejado. $N$ deve ser escolhido em torno de 1 segundo de sinal, aproximadamente. A filtragem deve ser feita no domínio da DFT (pode ser utilizada alguma função para cálculo da fft em Python, como a função fft da biblioteca numpy)."
   ]
  },
  {
   "cell_type": "code",
   "execution_count": 6,
   "metadata": {},
   "outputs": [],
   "source": [
    "#Resposta da questão 2b"
   ]
  },
  {
   "cell_type": "markdown",
   "metadata": {},
   "source": [
    "## Questão 2c (1.0  ponto)\n",
    "\n",
    "Escreva uma função para combinar a saída do processamento de cada janela na saída do sistema, utilizando **um** dos métodos vistos (*overlap and add* ou *overlap and save*). Indique claramente o método escolhido.\n"
   ]
  },
  {
   "cell_type": "code",
   "execution_count": 7,
   "metadata": {},
   "outputs": [],
   "source": [
    "#Resposta da questão 2c\n",
    "\n",
    "sinal = np.loadtxt(\"potencia.txt\")"
   ]
  },
  {
   "cell_type": "markdown",
   "metadata": {},
   "source": [
    "## Questão 2d (1.0  ponto)\n",
    "\n",
    "Plote o sinal de entrada e saída do sistema dado tanto pelo processamento em janelas como pelo processamento do sinal completo. Pode ser utilizada alguma função da biblioteca do python para calcular a saída do sistema usando o sinal completo."
   ]
  },
  {
   "cell_type": "code",
   "execution_count": 8,
   "metadata": {},
   "outputs": [],
   "source": [
    "#Resposta da questão 2d"
   ]
  },
  {
   "cell_type": "markdown",
   "metadata": {},
   "source": [
    "# Questão 3\n",
    "\n",
    "A equação diferença para um filtro FIR de tamanho $N$ pode ser escrita como:\n",
    "\n",
    "$$\n",
    "\\begin{align}\n",
    "\ty\\left[n\\right] &= h_0 x\\left[n\\right] + h_1 x\\left[n-1\\right] + h_2 x\\left[n-2\\right] + h_3 \\left[n-3\\right] + \\ldots + h_{N-1} x\\left[n - \\left(N- 1\\right)\\right] \\\\\n",
    "\t       &= \\sum_{k=0}^{N-1} h_k x\\left[n - k\\right] \n",
    "\\end{align}\n",
    "$$\n",
    "\n",
    "Os coeficientes do filtro, ou \\textit{taps}, são expressados usando a variável $h_k$ para enfatizar que os próprios coeficientes representam a resposta ao impulso do filtro. A resposta em frequência do filtro é:\n",
    "\n",
    "$$\n",
    "\\begin{align}\n",
    "\tH\\left( \\Omega \\right) = \\frac{Y\\left( \\Omega \\right)}{X\\left( \\Omega \\right)} = \\sum_{k=0}^{N-1} h_k e^{-j \\Omega k}\n",
    "\\end{align}\n",
    "$$\n",
    "\n",
    "Como $H\\left( \\Omega \\right)$ é uma função com período $2 \\pi$ da variável contínua $\\Omega$, é suficiente especificar $H\\left( \\Omega \\right)$ em apenas um período $0 \\leq \\Omega < 2 \\pi$. \n",
    "\n",
    "Em muitas aplicações, a resposta em magnitude desejada do filtro $\\left|H_d \\left( \\Omega \\right)\\right|$ é conhecida, mas não os coeficientes $h_k$ do filtro. A questão é, então, determinar os coeficientes do filtro a partir da resposta em magnitude desejada. Podemos fazer isso simplesmente amostrando a resposta em frequência desejada $\\left|H_d \\left( \\Omega \\right)\\right|$ com $N$ amostras em um período, e então fazendo a DFT inversa dessas amostras (obtendo $h\\left[n\\right]$). Note que a definição dos coeficientes $h_k$ é suficiente para determinar o sistema do filtro FIR. Além disso, como $H \\left( \\Omega \\right)$ foi obtido amostrando $\\left|H_d \\left( \\Omega \\right)\\right|$ para algumas frequências, garantimos que a resposta em frequência do filtro projeto será igual a resposta em frequência desejada ao menos nos valores de amostragem. Finalmente, observe que, ao fazer a DFT inversa, alguns coeficientes $h_k$ podem ter uma pequena componente imaginária que deve ser descartada para o projeto de um filtro real. \n",
    "\n"
   ]
  },
  {
   "cell_type": "markdown",
   "metadata": {},
   "source": [
    "## Questão 3a (1.0  ponto)\n",
    "\n",
    "Considere então um sinal de ECG amostrado a uma taxa de $500$ Hz. Projete um filtro digital FIR através da amostragem de frequência passa-baixas com frequência de corte igual a $50$ Hz. \n",
    "\n",
    "Plote a resposta ao impulso $h\\left[n\\right]$ e a resposta em frequência $H\\left(\\Omega\\right)$ do filtro para $N = 21$, $N = 31$ e $N = 41$. Compare os filtros com a resposta em frequência desejada. "
   ]
  },
  {
   "cell_type": "code",
   "execution_count": 9,
   "metadata": {},
   "outputs": [],
   "source": [
    "#Resposta da questão 3a"
   ]
  },
  {
   "cell_type": "markdown",
   "metadata": {},
   "source": [
    "## Questão 3b (1.0  ponto)\n",
    "\n",
    "A resposta ao impulso do filtro do item anterior deveria ser uma função *sinc*, que é uma função com suporte infinito. Porém, a amostragem amostra apenas a parte para $n$ positivo, gerando uma descontinuidade e uma resposta em frequência mais pobre. Uma forma de melhorar essa amostragem é centralizar a função *sinc* - para isso, devemos multiplicar a resposta em frequência do filtro $H\\left(\\Omega\\right)$ por $e^{-j \\Omega \\frac{\\left(N - 1\\right)}{2}}$. Utilize essa técnica para gerar novos filtros com $N = 21$, $N = 31$ e $N = 41$. Compare os filtros com os filtros do item anterior com o mesmo tamanho."
   ]
  },
  {
   "cell_type": "code",
   "execution_count": 10,
   "metadata": {},
   "outputs": [],
   "source": [
    "#Resposta da questão 3b"
   ]
  },
  {
   "cell_type": "markdown",
   "metadata": {},
   "source": [
    "## Questão 3c (1.0  ponto)\n",
    "\n",
    "Aplique o filtro com $N = 41$ no sinal do arquivo \"noisy\\_ecg\\_data\\_3.mat\". Compare o sinal de entrada com o sinal de saída. O que acontece com os picos do ECG? "
   ]
  },
  {
   "cell_type": "code",
   "execution_count": 11,
   "metadata": {},
   "outputs": [],
   "source": [
    "#Resposta da questão 3c\n",
    "\n",
    "sinal = sp.io.loadmat('noisy_ecg_data_3.mat')['noisy_ecg_3'].ravel()"
   ]
  },
  {
   "cell_type": "markdown",
   "metadata": {},
   "source": [
    "## Questão 3d (1.0  ponto)\n",
    "\n",
    "Utilize a técnica de *zero-phase filtering* com o filtro do item anterior. Compare a saída do sistema com e sem a aplicação da técnica."
   ]
  },
  {
   "cell_type": "code",
   "execution_count": 12,
   "metadata": {},
   "outputs": [],
   "source": [
    "#Resposta da questão 3d"
   ]
  }
 ],
 "metadata": {
  "kernelspec": {
   "display_name": "Python 3 (ipykernel)",
   "language": "python",
   "name": "python3"
  },
  "language_info": {
   "codemirror_mode": {
    "name": "ipython",
    "version": 3
   },
   "file_extension": ".py",
   "mimetype": "text/x-python",
   "name": "python",
   "nbconvert_exporter": "python",
   "pygments_lexer": "ipython3",
   "version": "3.11.0"
  },
  "vscode": {
   "interpreter": {
    "hash": "916dbcbb3f70747c44a77c7bcd40155683ae19c65e1c03b4aa3499c5328201f1"
   }
  }
 },
 "nbformat": 4,
 "nbformat_minor": 2
}
