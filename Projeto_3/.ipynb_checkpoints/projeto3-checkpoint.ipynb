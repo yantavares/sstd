{
 "cells": [
  {
   "cell_type": "code",
   "execution_count": 16,
   "metadata": {
    "scrolled": false
   },
   "outputs": [],
   "source": [
    "import numpy as np\n",
    "import scipy as sp\n",
    "from matplotlib import pyplot as plt"
   ]
  },
  {
   "cell_type": "markdown",
   "metadata": {},
   "source": [
    "# Projeto 3 - Sinais e Sistemas em Tempo Discreto - 2023/01\n",
    "# Identificação\n",
    "## Nome: \n",
    "## Matrícula: "
   ]
  },
  {
   "cell_type": "markdown",
   "metadata": {},
   "source": [
    "# Funções utilizadas.\n",
    "\n",
    "Coloque abaixo as funções desenvolvidas para este projeto."
   ]
  },
  {
   "cell_type": "code",
   "execution_count": 17,
   "metadata": {
    "scrolled": false
   },
   "outputs": [],
   "source": [
    "#Código das funções utilizadas."
   ]
  },
  {
   "cell_type": "markdown",
   "metadata": {},
   "source": [
    "# Questão 1\n",
    "\n",
    "Considere um sinal $x\\left(t\\right) = 8 \\cdot \\text{ret}\\left(t\\right)$, onde:\n",
    "\n",
    "$$ \\begin{align}\n",
    "\t\\text{ret}\\left(x\\right) = \\begin{cases}\n",
    "                               0 & \\text{se} ~~ \\left|x\\right| > \\frac{1}{2} \\\\\n",
    "\t\t\t\t\t\t\t\t\t\t\t\t\t\t\t \\frac{1}{2} & \\text{se} ~~ \\left|x\\right| = \\frac{1}{2} \\\\\n",
    "\t\t\t\t\t\t\t\t\t\t\t\t\t\t\t 1 & \\text{se} ~~ \\left|x\\right| < \\frac{1}{2} \\\\\n",
    "                             \\end{cases}\n",
    "\\end{align}                             \n",
    "$$\n",
    "\n",
    "Considere que o sinal será amostrado a uma taxa $T = \\frac{1}{8}$ s, e que queremos uma resolução na frequência de $f_0 = \\frac{1}{4}$ Hz. \n",
    "\n"
   ]
  },
  {
   "cell_type": "markdown",
   "metadata": {},
   "source": [
    "## Questão 1a (1.0 ponto)\n",
    "\n",
    "Obtenha o sinal $x\\left[n\\right]$, como uma amostragem de $x\\left(t\\right)$ ."
   ]
  },
  {
   "cell_type": "code",
   "execution_count": 18,
   "metadata": {},
   "outputs": [],
   "source": [
    "#Resposta da questão 1a"
   ]
  },
  {
   "cell_type": "markdown",
   "metadata": {},
   "source": [
    "## Questão 1b (1.0 ponto)\n",
    "\n",
    "Compare a transformada de Fourier real do sinal $x\\left(t\\right)$ com a Transformada Discreta de Fourier obtida a partir de $x\\left[n\\right]$ . "
   ]
  },
  {
   "cell_type": "code",
   "execution_count": 19,
   "metadata": {},
   "outputs": [],
   "source": [
    "#Resposta da questão 1b"
   ]
  },
  {
   "cell_type": "markdown",
   "metadata": {},
   "source": [
    "# Questão 2\n",
    "\n",
    "Considere um sinal $x\\left[n\\right]$ com $N = 256$ amostras, onde: \n",
    "$$\n",
    "\\begin{align}\n",
    "\tx\\left[n\\right] = \\begin{cases}\n",
    "                               1 & \\text{se} ~~ n < 64 \\\\\n",
    "\t\t\t\t\t\t\t\t\t\t\t\t\t\t\t 0 & \\text{se} ~~ n \\geq 64 \\\\\t\t\t\t\t\t\t\t\t\t\t\t\t\t\t \n",
    "                             \\end{cases}\n",
    "\\end{align}\n",
    "$$\n",
    "\n",
    "Considere agora um filtro passa-baixas ideal $H_1$ com frequência de corte normalizada igual a $\\frac{1}{16}$."
   ]
  },
  {
   "cell_type": "markdown",
   "metadata": {},
   "source": [
    "## Questão 2a (1.0  ponto)\n",
    "\n",
    "Filtre o sinal $x\\left[n\\right]$ com o filtro $H_1$, obtendo o sinal $y\\left[n\\right]$. Compare o sinal original $x\\left[n\\right]$ com o sinal obtido $y\\left[n\\right]$. "
   ]
  },
  {
   "cell_type": "code",
   "execution_count": 20,
   "metadata": {},
   "outputs": [],
   "source": [
    "#Resposta da questão 2a"
   ]
  },
  {
   "cell_type": "markdown",
   "metadata": {},
   "source": [
    "## Questão 2b (1.0 ponto)\n",
    "\n",
    "Compare o espectro do sinal $x\\left[n\\right]$ com o espectro do sinal $y\\left[n\\right]$. "
   ]
  },
  {
   "cell_type": "code",
   "execution_count": 21,
   "metadata": {},
   "outputs": [],
   "source": [
    "#Resposta da questão 2b"
   ]
  },
  {
   "cell_type": "markdown",
   "metadata": {},
   "source": [
    "## Questão 2c (1.0  ponto)\n",
    "\n",
    "Aplique o filtro $H_1$ no sinal contido no arquivo \"noisy_ecg2.mat\". Plote o sinal original e o sinal filtrado, bem como seus espectros.\n"
   ]
  },
  {
   "cell_type": "code",
   "execution_count": 22,
   "metadata": {},
   "outputs": [],
   "source": [
    "#Resposta da questão 2c\n",
    "\n",
    "sinal = sp.io.loadmat('noisy_ecg_data_2.mat')['noisy_ecg2'].ravel()"
   ]
  },
  {
   "cell_type": "markdown",
   "metadata": {},
   "source": [
    "# Questão 3 (5.0 pontos)\n",
    "\n",
    "O teclado de um touch-fone usa sinais de diferentes frequências para especificar quais botões foram pressionados. O teclado tem 12 botões, em um arranjo de quatro linhas e três colunas. Quando um botão é pressionado um sinal é gerado pela soma de dois tons senoidais com frequências diferentes. A frequência mais alta indica a coluna da tecla pressionada, enquanto a menor frequência indica a linha da tecla pressionada. As frequências são geradas de acordo com a tabela:\n",
    "\n",
    "| | | Coluna | |\n",
    "| :-: | :-: | :-: | :-: |\n",
    "| Linha | 1209 Hz | 1336 Hz | 1477 Hz |\n",
    "| 697 Hz | 1 | 2 | 3 |\n",
    "| 770 Hz | 4 | 5 | 6 |\n",
    "| 852 Hz | 7 | 8 | 9 |\n",
    "| 940 Hz | | 0 | |\n",
    "\n",
    "A frequência de amostragem é de 8192 Hz, e o som de cada tecla dura um segundo. Escreva um programa que decodifique, de forma automática, um sinal composto por um número de telefone gerado com essas características. Teste o seu programa com os sinais encontrados no arquivo \"touch_fone.mat\".\n"
   ]
  },
  {
   "cell_type": "code",
   "execution_count": 23,
   "metadata": {},
   "outputs": [],
   "source": [
    "#Resposta da questão 3\n",
    "\n",
    "sinal1 = sp.io.loadmat('touch_fone.mat')['x'].ravel()\n",
    "sinal2 = sp.io.loadmat('touch_fone.mat')['y'].ravel()\n",
    "sinal3 = sp.io.loadmat('touch_fone.mat')['z'].ravel()\n"
   ]
  }
 ],
 "metadata": {
  "kernelspec": {
   "display_name": "Python 3 (ipykernel)",
   "language": "python",
   "name": "python3"
  },
  "language_info": {
   "codemirror_mode": {
    "name": "ipython",
    "version": 3
   },
   "file_extension": ".py",
   "mimetype": "text/x-python",
   "name": "python",
   "nbconvert_exporter": "python",
   "pygments_lexer": "ipython3",
   "version": "3.11.0"
  },
  "vscode": {
   "interpreter": {
    "hash": "916dbcbb3f70747c44a77c7bcd40155683ae19c65e1c03b4aa3499c5328201f1"
   }
  }
 },
 "nbformat": 4,
 "nbformat_minor": 2
}
